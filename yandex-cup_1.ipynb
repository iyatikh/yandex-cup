{
 "cells": [
  {
   "cell_type": "code",
   "execution_count": 45,
   "metadata": {},
   "outputs": [],
   "source": [
    "import pandas as pd\n",
    "import numpy as np\n",
    "import datetime\n",
    "\n",
    "import warnings\n",
    "warnings.filterwarnings('ignore')"
   ]
  },
  {
   "cell_type": "code",
   "execution_count": 32,
   "metadata": {},
   "outputs": [
    {
     "data": {
      "text/html": [
       "<div>\n",
       "<style scoped>\n",
       "    .dataframe tbody tr th:only-of-type {\n",
       "        vertical-align: middle;\n",
       "    }\n",
       "\n",
       "    .dataframe tbody tr th {\n",
       "        vertical-align: top;\n",
       "    }\n",
       "\n",
       "    .dataframe thead th {\n",
       "        text-align: right;\n",
       "    }\n",
       "</style>\n",
       "<table border=\"1\" class=\"dataframe\">\n",
       "  <thead>\n",
       "    <tr style=\"text-align: right;\">\n",
       "      <th></th>\n",
       "      <th>date</th>\n",
       "      <th>user</th>\n",
       "      <th>event_type</th>\n",
       "      <th>parameter</th>\n",
       "    </tr>\n",
       "  </thead>\n",
       "  <tbody>\n",
       "    <tr>\n",
       "      <th>0</th>\n",
       "      <td>2020-04-01_00:04:03</td>\n",
       "      <td>976455</td>\n",
       "      <td>3</td>\n",
       "      <td>NaN</td>\n",
       "    </tr>\n",
       "    <tr>\n",
       "      <th>1</th>\n",
       "      <td>2020-04-01_00:01:27</td>\n",
       "      <td>456430</td>\n",
       "      <td>3</td>\n",
       "      <td>text</td>\n",
       "    </tr>\n",
       "    <tr>\n",
       "      <th>2</th>\n",
       "      <td>2020-04-01_00:06:32</td>\n",
       "      <td>566998</td>\n",
       "      <td>1</td>\n",
       "      <td>unknown</td>\n",
       "    </tr>\n",
       "    <tr>\n",
       "      <th>3</th>\n",
       "      <td>2020-04-01_00:08:28</td>\n",
       "      <td>927997</td>\n",
       "      <td>3</td>\n",
       "      <td>NaN</td>\n",
       "    </tr>\n",
       "    <tr>\n",
       "      <th>4</th>\n",
       "      <td>2020-04-01_00:08:53</td>\n",
       "      <td>237940</td>\n",
       "      <td>4</td>\n",
       "      <td>unknown</td>\n",
       "    </tr>\n",
       "  </tbody>\n",
       "</table>\n",
       "</div>"
      ],
      "text/plain": [
       "                  date    user  event_type parameter\n",
       "0  2020-04-01_00:04:03  976455           3       NaN\n",
       "1  2020-04-01_00:01:27  456430           3      text\n",
       "2  2020-04-01_00:06:32  566998           1   unknown\n",
       "3  2020-04-01_00:08:28  927997           3       NaN\n",
       "4  2020-04-01_00:08:53  237940           4   unknown"
      ]
     },
     "execution_count": 32,
     "metadata": {},
     "output_type": "execute_result"
    }
   ],
   "source": [
    "log = pd.read_csv('log.csv')\n",
    "log.head()"
   ]
  },
  {
   "cell_type": "code",
   "execution_count": 36,
   "metadata": {},
   "outputs": [
    {
     "data": {
      "text/html": [
       "<div>\n",
       "<style scoped>\n",
       "    .dataframe tbody tr th:only-of-type {\n",
       "        vertical-align: middle;\n",
       "    }\n",
       "\n",
       "    .dataframe tbody tr th {\n",
       "        vertical-align: top;\n",
       "    }\n",
       "\n",
       "    .dataframe thead th {\n",
       "        text-align: right;\n",
       "    }\n",
       "</style>\n",
       "<table border=\"1\" class=\"dataframe\">\n",
       "  <thead>\n",
       "    <tr style=\"text-align: right;\">\n",
       "      <th></th>\n",
       "      <th>date</th>\n",
       "      <th>user</th>\n",
       "      <th>event_type</th>\n",
       "      <th>parameter</th>\n",
       "    </tr>\n",
       "  </thead>\n",
       "  <tbody>\n",
       "    <tr>\n",
       "      <th>0</th>\n",
       "      <td>2020-04-01 00:04:03</td>\n",
       "      <td>976455</td>\n",
       "      <td>3</td>\n",
       "      <td>NaN</td>\n",
       "    </tr>\n",
       "    <tr>\n",
       "      <th>1</th>\n",
       "      <td>2020-04-01 00:01:27</td>\n",
       "      <td>456430</td>\n",
       "      <td>3</td>\n",
       "      <td>text</td>\n",
       "    </tr>\n",
       "    <tr>\n",
       "      <th>2</th>\n",
       "      <td>2020-04-01 00:06:32</td>\n",
       "      <td>566998</td>\n",
       "      <td>1</td>\n",
       "      <td>unknown</td>\n",
       "    </tr>\n",
       "    <tr>\n",
       "      <th>3</th>\n",
       "      <td>2020-04-01 00:08:28</td>\n",
       "      <td>927997</td>\n",
       "      <td>3</td>\n",
       "      <td>NaN</td>\n",
       "    </tr>\n",
       "    <tr>\n",
       "      <th>4</th>\n",
       "      <td>2020-04-01 00:08:53</td>\n",
       "      <td>237940</td>\n",
       "      <td>4</td>\n",
       "      <td>unknown</td>\n",
       "    </tr>\n",
       "  </tbody>\n",
       "</table>\n",
       "</div>"
      ],
      "text/plain": [
       "                 date    user  event_type parameter\n",
       "0 2020-04-01 00:04:03  976455           3       NaN\n",
       "1 2020-04-01 00:01:27  456430           3      text\n",
       "2 2020-04-01 00:06:32  566998           1   unknown\n",
       "3 2020-04-01 00:08:28  927997           3       NaN\n",
       "4 2020-04-01 00:08:53  237940           4   unknown"
      ]
     },
     "execution_count": 36,
     "metadata": {},
     "output_type": "execute_result"
    }
   ],
   "source": [
    "log['date'] = pd.to_datetime(log['date'], format='%Y-%m-%d_%H:%M:%S')\n",
    "log.head()"
   ]
  },
  {
   "cell_type": "markdown",
   "metadata": {},
   "source": [
    "## Задание 1"
   ]
  },
  {
   "cell_type": "markdown",
   "metadata": {},
   "source": [
    "Посчитайте количество сессий, которые начались 2020-04-19. Сессия заканчивается, если пользователь не совершал действий в течение 30 минут или более."
   ]
  },
  {
   "cell_type": "code",
   "execution_count": 40,
   "metadata": {},
   "outputs": [
    {
     "data": {
      "text/html": [
       "<div>\n",
       "<style scoped>\n",
       "    .dataframe tbody tr th:only-of-type {\n",
       "        vertical-align: middle;\n",
       "    }\n",
       "\n",
       "    .dataframe tbody tr th {\n",
       "        vertical-align: top;\n",
       "    }\n",
       "\n",
       "    .dataframe thead th {\n",
       "        text-align: right;\n",
       "    }\n",
       "</style>\n",
       "<table border=\"1\" class=\"dataframe\">\n",
       "  <thead>\n",
       "    <tr style=\"text-align: right;\">\n",
       "      <th></th>\n",
       "      <th>date</th>\n",
       "      <th>user</th>\n",
       "      <th>event_type</th>\n",
       "      <th>parameter</th>\n",
       "    </tr>\n",
       "  </thead>\n",
       "  <tbody>\n",
       "    <tr>\n",
       "      <th>5692</th>\n",
       "      <td>2020-04-02 10:39:10</td>\n",
       "      <td>100081</td>\n",
       "      <td>2</td>\n",
       "      <td>text</td>\n",
       "    </tr>\n",
       "    <tr>\n",
       "      <th>7929</th>\n",
       "      <td>2020-04-02 15:37:13</td>\n",
       "      <td>100081</td>\n",
       "      <td>2</td>\n",
       "      <td>NaN</td>\n",
       "    </tr>\n",
       "    <tr>\n",
       "      <th>16401</th>\n",
       "      <td>2020-04-03 15:36:01</td>\n",
       "      <td>100081</td>\n",
       "      <td>4</td>\n",
       "      <td>unknown</td>\n",
       "    </tr>\n",
       "    <tr>\n",
       "      <th>24724</th>\n",
       "      <td>2020-04-05 07:26:55</td>\n",
       "      <td>100081</td>\n",
       "      <td>2</td>\n",
       "      <td>unknown</td>\n",
       "    </tr>\n",
       "    <tr>\n",
       "      <th>27129</th>\n",
       "      <td>2020-04-05 13:05:31</td>\n",
       "      <td>100081</td>\n",
       "      <td>4</td>\n",
       "      <td>music</td>\n",
       "    </tr>\n",
       "  </tbody>\n",
       "</table>\n",
       "</div>"
      ],
      "text/plain": [
       "                     date    user  event_type parameter\n",
       "5692  2020-04-02 10:39:10  100081           2      text\n",
       "7929  2020-04-02 15:37:13  100081           2       NaN\n",
       "16401 2020-04-03 15:36:01  100081           4   unknown\n",
       "24724 2020-04-05 07:26:55  100081           2   unknown\n",
       "27129 2020-04-05 13:05:31  100081           4     music"
      ]
     },
     "execution_count": 40,
     "metadata": {},
     "output_type": "execute_result"
    }
   ],
   "source": [
    "log.sort_values(['user', 'date'], inplace=True)\n",
    "log.head()"
   ]
  },
  {
   "cell_type": "code",
   "execution_count": 43,
   "metadata": {},
   "outputs": [
    {
     "data": {
      "text/html": [
       "<div>\n",
       "<style scoped>\n",
       "    .dataframe tbody tr th:only-of-type {\n",
       "        vertical-align: middle;\n",
       "    }\n",
       "\n",
       "    .dataframe tbody tr th {\n",
       "        vertical-align: top;\n",
       "    }\n",
       "\n",
       "    .dataframe thead th {\n",
       "        text-align: right;\n",
       "    }\n",
       "</style>\n",
       "<table border=\"1\" class=\"dataframe\">\n",
       "  <thead>\n",
       "    <tr style=\"text-align: right;\">\n",
       "      <th></th>\n",
       "      <th>date</th>\n",
       "      <th>user</th>\n",
       "      <th>event_type</th>\n",
       "      <th>parameter</th>\n",
       "      <th>delta</th>\n",
       "    </tr>\n",
       "  </thead>\n",
       "  <tbody>\n",
       "    <tr>\n",
       "      <th>5692</th>\n",
       "      <td>2020-04-02 10:39:10</td>\n",
       "      <td>100081</td>\n",
       "      <td>2</td>\n",
       "      <td>text</td>\n",
       "      <td>NaT</td>\n",
       "    </tr>\n",
       "    <tr>\n",
       "      <th>7929</th>\n",
       "      <td>2020-04-02 15:37:13</td>\n",
       "      <td>100081</td>\n",
       "      <td>2</td>\n",
       "      <td>NaN</td>\n",
       "      <td>0 days 04:58:03</td>\n",
       "    </tr>\n",
       "    <tr>\n",
       "      <th>16401</th>\n",
       "      <td>2020-04-03 15:36:01</td>\n",
       "      <td>100081</td>\n",
       "      <td>4</td>\n",
       "      <td>unknown</td>\n",
       "      <td>0 days 23:58:48</td>\n",
       "    </tr>\n",
       "    <tr>\n",
       "      <th>24724</th>\n",
       "      <td>2020-04-05 07:26:55</td>\n",
       "      <td>100081</td>\n",
       "      <td>2</td>\n",
       "      <td>unknown</td>\n",
       "      <td>1 days 15:50:54</td>\n",
       "    </tr>\n",
       "    <tr>\n",
       "      <th>27129</th>\n",
       "      <td>2020-04-05 13:05:31</td>\n",
       "      <td>100081</td>\n",
       "      <td>4</td>\n",
       "      <td>music</td>\n",
       "      <td>0 days 05:38:36</td>\n",
       "    </tr>\n",
       "  </tbody>\n",
       "</table>\n",
       "</div>"
      ],
      "text/plain": [
       "                     date    user  event_type parameter           delta\n",
       "5692  2020-04-02 10:39:10  100081           2      text             NaT\n",
       "7929  2020-04-02 15:37:13  100081           2       NaN 0 days 04:58:03\n",
       "16401 2020-04-03 15:36:01  100081           4   unknown 0 days 23:58:48\n",
       "24724 2020-04-05 07:26:55  100081           2   unknown 1 days 15:50:54\n",
       "27129 2020-04-05 13:05:31  100081           4     music 0 days 05:38:36"
      ]
     },
     "execution_count": 43,
     "metadata": {},
     "output_type": "execute_result"
    }
   ],
   "source": [
    "log['delta'] = log['date'] - log['date'].shift(periods=1)\n",
    "log.head()"
   ]
  },
  {
   "cell_type": "code",
   "execution_count": 46,
   "metadata": {},
   "outputs": [
    {
     "data": {
      "text/html": [
       "<div>\n",
       "<style scoped>\n",
       "    .dataframe tbody tr th:only-of-type {\n",
       "        vertical-align: middle;\n",
       "    }\n",
       "\n",
       "    .dataframe tbody tr th {\n",
       "        vertical-align: top;\n",
       "    }\n",
       "\n",
       "    .dataframe thead th {\n",
       "        text-align: right;\n",
       "    }\n",
       "</style>\n",
       "<table border=\"1\" class=\"dataframe\">\n",
       "  <thead>\n",
       "    <tr style=\"text-align: right;\">\n",
       "      <th></th>\n",
       "      <th>date</th>\n",
       "      <th>user</th>\n",
       "      <th>event_type</th>\n",
       "      <th>parameter</th>\n",
       "      <th>delta</th>\n",
       "    </tr>\n",
       "  </thead>\n",
       "  <tbody>\n",
       "    <tr>\n",
       "      <th>5692</th>\n",
       "      <td>2020-04-02 10:39:10</td>\n",
       "      <td>100081</td>\n",
       "      <td>2</td>\n",
       "      <td>text</td>\n",
       "      <td>NaT</td>\n",
       "    </tr>\n",
       "    <tr>\n",
       "      <th>7929</th>\n",
       "      <td>2020-04-02 15:37:13</td>\n",
       "      <td>100081</td>\n",
       "      <td>2</td>\n",
       "      <td>NaN</td>\n",
       "      <td>0 days 04:58:03</td>\n",
       "    </tr>\n",
       "    <tr>\n",
       "      <th>16401</th>\n",
       "      <td>2020-04-03 15:36:01</td>\n",
       "      <td>100081</td>\n",
       "      <td>4</td>\n",
       "      <td>unknown</td>\n",
       "      <td>0 days 23:58:48</td>\n",
       "    </tr>\n",
       "    <tr>\n",
       "      <th>24724</th>\n",
       "      <td>2020-04-05 07:26:55</td>\n",
       "      <td>100081</td>\n",
       "      <td>2</td>\n",
       "      <td>unknown</td>\n",
       "      <td>1 days 15:50:54</td>\n",
       "    </tr>\n",
       "    <tr>\n",
       "      <th>27129</th>\n",
       "      <td>2020-04-05 13:05:31</td>\n",
       "      <td>100081</td>\n",
       "      <td>4</td>\n",
       "      <td>music</td>\n",
       "      <td>0 days 05:38:36</td>\n",
       "    </tr>\n",
       "  </tbody>\n",
       "</table>\n",
       "</div>"
      ],
      "text/plain": [
       "                     date    user  event_type parameter           delta\n",
       "5692  2020-04-02 10:39:10  100081           2      text             NaT\n",
       "7929  2020-04-02 15:37:13  100081           2       NaN 0 days 04:58:03\n",
       "16401 2020-04-03 15:36:01  100081           4   unknown 0 days 23:58:48\n",
       "24724 2020-04-05 07:26:55  100081           2   unknown 1 days 15:50:54\n",
       "27129 2020-04-05 13:05:31  100081           4     music 0 days 05:38:36"
      ]
     },
     "execution_count": 46,
     "metadata": {},
     "output_type": "execute_result"
    }
   ],
   "source": [
    "mask = log['user'] != log['user'].shift(periods=1)\n",
    "log['delta'][mask] = pd.NaT\n",
    "log.head()"
   ]
  },
  {
   "cell_type": "code",
   "execution_count": 58,
   "metadata": {},
   "outputs": [
    {
     "data": {
      "text/html": [
       "<div>\n",
       "<style scoped>\n",
       "    .dataframe tbody tr th:only-of-type {\n",
       "        vertical-align: middle;\n",
       "    }\n",
       "\n",
       "    .dataframe tbody tr th {\n",
       "        vertical-align: top;\n",
       "    }\n",
       "\n",
       "    .dataframe thead th {\n",
       "        text-align: right;\n",
       "    }\n",
       "</style>\n",
       "<table border=\"1\" class=\"dataframe\">\n",
       "  <thead>\n",
       "    <tr style=\"text-align: right;\">\n",
       "      <th></th>\n",
       "      <th>date</th>\n",
       "      <th>user</th>\n",
       "      <th>event_type</th>\n",
       "      <th>parameter</th>\n",
       "      <th>delta</th>\n",
       "      <th>day</th>\n",
       "    </tr>\n",
       "  </thead>\n",
       "  <tbody>\n",
       "    <tr>\n",
       "      <th>5692</th>\n",
       "      <td>2020-04-02 10:39:10</td>\n",
       "      <td>100081</td>\n",
       "      <td>2</td>\n",
       "      <td>text</td>\n",
       "      <td>NaT</td>\n",
       "      <td>2020-04-02</td>\n",
       "    </tr>\n",
       "    <tr>\n",
       "      <th>7929</th>\n",
       "      <td>2020-04-02 15:37:13</td>\n",
       "      <td>100081</td>\n",
       "      <td>2</td>\n",
       "      <td>NaN</td>\n",
       "      <td>0 days 04:58:03</td>\n",
       "      <td>2020-04-02</td>\n",
       "    </tr>\n",
       "    <tr>\n",
       "      <th>16401</th>\n",
       "      <td>2020-04-03 15:36:01</td>\n",
       "      <td>100081</td>\n",
       "      <td>4</td>\n",
       "      <td>unknown</td>\n",
       "      <td>0 days 23:58:48</td>\n",
       "      <td>2020-04-03</td>\n",
       "    </tr>\n",
       "    <tr>\n",
       "      <th>24724</th>\n",
       "      <td>2020-04-05 07:26:55</td>\n",
       "      <td>100081</td>\n",
       "      <td>2</td>\n",
       "      <td>unknown</td>\n",
       "      <td>1 days 15:50:54</td>\n",
       "      <td>2020-04-05</td>\n",
       "    </tr>\n",
       "    <tr>\n",
       "      <th>27129</th>\n",
       "      <td>2020-04-05 13:05:31</td>\n",
       "      <td>100081</td>\n",
       "      <td>4</td>\n",
       "      <td>music</td>\n",
       "      <td>0 days 05:38:36</td>\n",
       "      <td>2020-04-05</td>\n",
       "    </tr>\n",
       "  </tbody>\n",
       "</table>\n",
       "</div>"
      ],
      "text/plain": [
       "                     date    user  event_type parameter           delta  \\\n",
       "5692  2020-04-02 10:39:10  100081           2      text             NaT   \n",
       "7929  2020-04-02 15:37:13  100081           2       NaN 0 days 04:58:03   \n",
       "16401 2020-04-03 15:36:01  100081           4   unknown 0 days 23:58:48   \n",
       "24724 2020-04-05 07:26:55  100081           2   unknown 1 days 15:50:54   \n",
       "27129 2020-04-05 13:05:31  100081           4     music 0 days 05:38:36   \n",
       "\n",
       "             day  \n",
       "5692  2020-04-02  \n",
       "7929  2020-04-02  \n",
       "16401 2020-04-03  \n",
       "24724 2020-04-05  \n",
       "27129 2020-04-05  "
      ]
     },
     "execution_count": 58,
     "metadata": {},
     "output_type": "execute_result"
    }
   ],
   "source": [
    "log['day'] = log['date'].astype('datetime64[D]')\n",
    "log.head()"
   ]
  },
  {
   "cell_type": "code",
   "execution_count": 91,
   "metadata": {},
   "outputs": [
    {
     "data": {
      "text/plain": [
       "6251"
      ]
     },
     "execution_count": 91,
     "metadata": {},
     "output_type": "execute_result"
    }
   ],
   "source": [
    "mask = log['delta'] >= pd.Timedelta(30, 'm')\n",
    "len(log[mask].query('day==\"2020-04-19\"'))"
   ]
  },
  {
   "cell_type": "markdown",
   "metadata": {},
   "source": [
    "## Задание 2"
   ]
  },
  {
   "cell_type": "markdown",
   "metadata": {},
   "source": [
    "Найдите день, когда число уникальных пользователей, просмотревших видео, было максимальным. В ответе укажите этот максимум.\n",
    "\n",
    "Будем считать, что пользователь посмотрел видео, если у него было событие с типом 2 и параметром video."
   ]
  },
  {
   "cell_type": "code",
   "execution_count": 75,
   "metadata": {},
   "outputs": [
    {
     "data": {
      "text/html": [
       "<div>\n",
       "<style scoped>\n",
       "    .dataframe tbody tr th:only-of-type {\n",
       "        vertical-align: middle;\n",
       "    }\n",
       "\n",
       "    .dataframe tbody tr th {\n",
       "        vertical-align: top;\n",
       "    }\n",
       "\n",
       "    .dataframe thead th {\n",
       "        text-align: right;\n",
       "    }\n",
       "</style>\n",
       "<table border=\"1\" class=\"dataframe\">\n",
       "  <thead>\n",
       "    <tr style=\"text-align: right;\">\n",
       "      <th></th>\n",
       "      <th>date</th>\n",
       "      <th>user</th>\n",
       "      <th>event_type</th>\n",
       "      <th>parameter</th>\n",
       "      <th>delta</th>\n",
       "      <th>day</th>\n",
       "    </tr>\n",
       "  </thead>\n",
       "  <tbody>\n",
       "    <tr>\n",
       "      <th>135618</th>\n",
       "      <td>2020-04-21 14:19:35</td>\n",
       "      <td>100081</td>\n",
       "      <td>2</td>\n",
       "      <td>video</td>\n",
       "      <td>0 days 00:30:00</td>\n",
       "      <td>2020-04-21</td>\n",
       "    </tr>\n",
       "    <tr>\n",
       "      <th>112539</th>\n",
       "      <td>2020-04-17 19:28:16</td>\n",
       "      <td>100112</td>\n",
       "      <td>2</td>\n",
       "      <td>video</td>\n",
       "      <td>0 days 07:37:26</td>\n",
       "      <td>2020-04-17</td>\n",
       "    </tr>\n",
       "    <tr>\n",
       "      <th>27423</th>\n",
       "      <td>2020-04-05 13:42:06</td>\n",
       "      <td>100443</td>\n",
       "      <td>2</td>\n",
       "      <td>video</td>\n",
       "      <td>1 days 16:08:08</td>\n",
       "      <td>2020-04-05</td>\n",
       "    </tr>\n",
       "    <tr>\n",
       "      <th>13544</th>\n",
       "      <td>2020-04-03 10:03:23</td>\n",
       "      <td>100469</td>\n",
       "      <td>2</td>\n",
       "      <td>video</td>\n",
       "      <td>0 days 13:44:27</td>\n",
       "      <td>2020-04-03</td>\n",
       "    </tr>\n",
       "    <tr>\n",
       "      <th>109178</th>\n",
       "      <td>2020-04-17 12:29:19</td>\n",
       "      <td>100469</td>\n",
       "      <td>2</td>\n",
       "      <td>video</td>\n",
       "      <td>3 days 19:22:18</td>\n",
       "      <td>2020-04-17</td>\n",
       "    </tr>\n",
       "  </tbody>\n",
       "</table>\n",
       "</div>"
      ],
      "text/plain": [
       "                      date    user  event_type parameter           delta  \\\n",
       "135618 2020-04-21 14:19:35  100081           2     video 0 days 00:30:00   \n",
       "112539 2020-04-17 19:28:16  100112           2     video 0 days 07:37:26   \n",
       "27423  2020-04-05 13:42:06  100443           2     video 1 days 16:08:08   \n",
       "13544  2020-04-03 10:03:23  100469           2     video 0 days 13:44:27   \n",
       "109178 2020-04-17 12:29:19  100469           2     video 3 days 19:22:18   \n",
       "\n",
       "              day  \n",
       "135618 2020-04-21  \n",
       "112539 2020-04-17  \n",
       "27423  2020-04-05  \n",
       "13544  2020-04-03  \n",
       "109178 2020-04-17  "
      ]
     },
     "execution_count": 75,
     "metadata": {},
     "output_type": "execute_result"
    }
   ],
   "source": [
    "ans = log.query('event_type==2 & parameter==\"video\"')\n",
    "ans.head()"
   ]
  },
  {
   "cell_type": "code",
   "execution_count": 76,
   "metadata": {},
   "outputs": [
    {
     "data": {
      "text/html": [
       "<div>\n",
       "<style scoped>\n",
       "    .dataframe tbody tr th:only-of-type {\n",
       "        vertical-align: middle;\n",
       "    }\n",
       "\n",
       "    .dataframe tbody tr th {\n",
       "        vertical-align: top;\n",
       "    }\n",
       "\n",
       "    .dataframe thead th {\n",
       "        text-align: right;\n",
       "    }\n",
       "</style>\n",
       "<table border=\"1\" class=\"dataframe\">\n",
       "  <thead>\n",
       "    <tr style=\"text-align: right;\">\n",
       "      <th></th>\n",
       "      <th>user</th>\n",
       "    </tr>\n",
       "    <tr>\n",
       "      <th>day</th>\n",
       "      <th></th>\n",
       "    </tr>\n",
       "  </thead>\n",
       "  <tbody>\n",
       "    <tr>\n",
       "      <th>2020-04-01</th>\n",
       "      <td>121</td>\n",
       "    </tr>\n",
       "    <tr>\n",
       "      <th>2020-04-02</th>\n",
       "      <td>303</td>\n",
       "    </tr>\n",
       "    <tr>\n",
       "      <th>2020-04-03</th>\n",
       "      <td>343</td>\n",
       "    </tr>\n",
       "    <tr>\n",
       "      <th>2020-04-04</th>\n",
       "      <td>137</td>\n",
       "    </tr>\n",
       "    <tr>\n",
       "      <th>2020-04-05</th>\n",
       "      <td>342</td>\n",
       "    </tr>\n",
       "  </tbody>\n",
       "</table>\n",
       "</div>"
      ],
      "text/plain": [
       "            user\n",
       "day             \n",
       "2020-04-01   121\n",
       "2020-04-02   303\n",
       "2020-04-03   343\n",
       "2020-04-04   137\n",
       "2020-04-05   342"
      ]
     },
     "execution_count": 76,
     "metadata": {},
     "output_type": "execute_result"
    }
   ],
   "source": [
    "ans = ans.groupby(by='day').agg({'user':'nunique'})\n",
    "ans.head()"
   ]
  },
  {
   "cell_type": "code",
   "execution_count": 77,
   "metadata": {},
   "outputs": [
    {
     "data": {
      "text/plain": [
       "391"
      ]
     },
     "execution_count": 77,
     "metadata": {},
     "output_type": "execute_result"
    }
   ],
   "source": [
    "ans['user'].max()"
   ]
  },
  {
   "cell_type": "markdown",
   "metadata": {},
   "source": [
    "## Задание 3 "
   ]
  },
  {
   "cell_type": "markdown",
   "metadata": {},
   "source": [
    "Найдите пятиминутный интервал (time; time + 5 minutes), в течение которого произошло больше всего событий. \n",
    "\n",
    "В ответе укажите время начала интервала в формате YYYY-MM-DD_hh:mm:ss. Если таких интервалов несколько, укажите начало наиболее позднего интервала. Обратите внимание, что началом интервала может быть произвольный момент времени."
   ]
  },
  {
   "cell_type": "code",
   "execution_count": 78,
   "metadata": {},
   "outputs": [
    {
     "data": {
      "text/html": [
       "<div>\n",
       "<style scoped>\n",
       "    .dataframe tbody tr th:only-of-type {\n",
       "        vertical-align: middle;\n",
       "    }\n",
       "\n",
       "    .dataframe tbody tr th {\n",
       "        vertical-align: top;\n",
       "    }\n",
       "\n",
       "    .dataframe thead th {\n",
       "        text-align: right;\n",
       "    }\n",
       "</style>\n",
       "<table border=\"1\" class=\"dataframe\">\n",
       "  <thead>\n",
       "    <tr style=\"text-align: right;\">\n",
       "      <th></th>\n",
       "      <th>date</th>\n",
       "      <th>user</th>\n",
       "      <th>event_type</th>\n",
       "      <th>parameter</th>\n",
       "      <th>delta</th>\n",
       "      <th>day</th>\n",
       "    </tr>\n",
       "  </thead>\n",
       "  <tbody>\n",
       "    <tr>\n",
       "      <th>1</th>\n",
       "      <td>2020-04-01 00:01:27</td>\n",
       "      <td>456430</td>\n",
       "      <td>3</td>\n",
       "      <td>text</td>\n",
       "      <td>NaT</td>\n",
       "      <td>2020-04-01</td>\n",
       "    </tr>\n",
       "    <tr>\n",
       "      <th>0</th>\n",
       "      <td>2020-04-01 00:04:03</td>\n",
       "      <td>976455</td>\n",
       "      <td>3</td>\n",
       "      <td>NaN</td>\n",
       "      <td>NaT</td>\n",
       "      <td>2020-04-01</td>\n",
       "    </tr>\n",
       "    <tr>\n",
       "      <th>2</th>\n",
       "      <td>2020-04-01 00:06:32</td>\n",
       "      <td>566998</td>\n",
       "      <td>1</td>\n",
       "      <td>unknown</td>\n",
       "      <td>NaT</td>\n",
       "      <td>2020-04-01</td>\n",
       "    </tr>\n",
       "    <tr>\n",
       "      <th>3</th>\n",
       "      <td>2020-04-01 00:08:28</td>\n",
       "      <td>927997</td>\n",
       "      <td>3</td>\n",
       "      <td>NaN</td>\n",
       "      <td>NaT</td>\n",
       "      <td>2020-04-01</td>\n",
       "    </tr>\n",
       "    <tr>\n",
       "      <th>4</th>\n",
       "      <td>2020-04-01 00:08:53</td>\n",
       "      <td>237940</td>\n",
       "      <td>4</td>\n",
       "      <td>unknown</td>\n",
       "      <td>NaT</td>\n",
       "      <td>2020-04-01</td>\n",
       "    </tr>\n",
       "  </tbody>\n",
       "</table>\n",
       "</div>"
      ],
      "text/plain": [
       "                 date    user  event_type parameter delta        day\n",
       "1 2020-04-01 00:01:27  456430           3      text   NaT 2020-04-01\n",
       "0 2020-04-01 00:04:03  976455           3       NaN   NaT 2020-04-01\n",
       "2 2020-04-01 00:06:32  566998           1   unknown   NaT 2020-04-01\n",
       "3 2020-04-01 00:08:28  927997           3       NaN   NaT 2020-04-01\n",
       "4 2020-04-01 00:08:53  237940           4   unknown   NaT 2020-04-01"
      ]
     },
     "execution_count": 78,
     "metadata": {},
     "output_type": "execute_result"
    }
   ],
   "source": [
    "log.sort_values(by='date', inplace=True)\n",
    "log.head()"
   ]
  },
  {
   "cell_type": "code",
   "execution_count": 85,
   "metadata": {},
   "outputs": [
    {
     "data": {
      "text/plain": [
       "1   2020-04-01 00:01:27\n",
       "0   2020-04-01 00:04:03\n",
       "2   2020-04-01 00:06:32\n",
       "3   2020-04-01 00:08:28\n",
       "4   2020-04-01 00:08:53\n",
       "Name: date, dtype: datetime64[ns]"
      ]
     },
     "execution_count": 85,
     "metadata": {},
     "output_type": "execute_result"
    }
   ],
   "source": [
    "dates = log['date']\n",
    "dates.head()"
   ]
  },
  {
   "cell_type": "code",
   "execution_count": 86,
   "metadata": {},
   "outputs": [
    {
     "data": {
      "text/plain": [
       "Timedelta('0 days 00:05:00')"
      ]
     },
     "execution_count": 86,
     "metadata": {},
     "output_type": "execute_result"
    }
   ],
   "source": [
    "delta = pd.Timedelta(5, 'm')\n",
    "delta"
   ]
  },
  {
   "cell_type": "code",
   "execution_count": 88,
   "metadata": {},
   "outputs": [
    {
     "data": {
      "text/plain": [
       "Timestamp('2020-04-09 13:06:42')"
      ]
     },
     "execution_count": 88,
     "metadata": {},
     "output_type": "execute_result"
    }
   ],
   "source": [
    "max_events = 0\n",
    "start_date = None\n",
    "\n",
    "i = 0\n",
    "j = 0\n",
    "\n",
    "while j < len(dates):\n",
    "    if j < len(dates) and dates[j] - dates[i] < delta:\n",
    "        j += 1\n",
    "    else:\n",
    "        i += 1\n",
    "    events = j - i # количество событий в этом интервале\n",
    "    if events >= max_events:\n",
    "        max_events = events\n",
    "        start_date = dates[i]\n",
    "\n",
    "start_date"
   ]
  }
 ],
 "metadata": {
  "kernelspec": {
   "display_name": "Python 3",
   "language": "python",
   "name": "python3"
  },
  "language_info": {
   "codemirror_mode": {
    "name": "ipython",
    "version": 3
   },
   "file_extension": ".py",
   "mimetype": "text/x-python",
   "name": "python",
   "nbconvert_exporter": "python",
   "pygments_lexer": "ipython3",
   "version": "3.8.5"
  }
 },
 "nbformat": 4,
 "nbformat_minor": 4
}
